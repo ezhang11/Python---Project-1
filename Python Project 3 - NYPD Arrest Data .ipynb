{
 "cells": [
  {
   "cell_type": "markdown",
   "metadata": {},
   "source": [
    "# Introduction"
   ]
  },
  {
   "cell_type": "markdown",
   "metadata": {},
   "source": [
    "In this project, I will be exploring the 2023 YTD NYPD Arrest Data*. I hope to present some summary statistics and create a visual representation of the data. I'm interested in answering the following questions, in particular:\n",
    " 1. Which borough has the most felony arrest Year-to-Date?\n",
    " 2. In the highest felony arrest borough, what are the top three crimes?"
   ]
  },
  {
   "cell_type": "markdown",
   "metadata": {},
   "source": [
    "# Import Libraries & Data Cleaning"
   ]
  },
  {
   "cell_type": "code",
   "execution_count": 1,
   "metadata": {},
   "outputs": [],
   "source": [
    "import pandas as pd\n",
    "import numpy as np\n",
    "import matplotlib.pyplot as plt\n",
    "import seaborn as sns\n",
    "%matplotlib inline"
   ]
  },
  {
   "cell_type": "code",
   "execution_count": 2,
   "metadata": {
    "scrolled": false
   },
   "outputs": [
    {
     "data": {
      "text/plain": [
       "Index(['ARREST_KEY', 'ARREST_DATE', 'PD_CD', 'PD_DESC', 'KY_CD', 'OFNS_DESC',\n",
       "       'LAW_CODE', 'LAW_CAT_CD', 'ARREST_BORO', 'ARREST_PRECINCT',\n",
       "       'JURISDICTION_CODE', 'AGE_GROUP', 'PERP_SEX', 'PERP_RACE', 'X_COORD_CD',\n",
       "       'Y_COORD_CD', 'Latitude', 'Longitude', 'New Georeferenced Column'],\n",
       "      dtype='object')"
      ]
     },
     "execution_count": 2,
     "metadata": {},
     "output_type": "execute_result"
    }
   ],
   "source": [
    "df = pd.read_csv('https://raw.githubusercontent.com/ezhang11/Python--NYPD-Arrest-Data-Analysis/main/NYPD_Arrest_Data__Year_to_Date_.csv')\n",
    "df.columns"
   ]
  },
  {
   "cell_type": "markdown",
   "metadata": {},
   "source": [
    "*For additional footnotes on this dataset and descriptions of field names, \n",
    "<br> see document named __NYPD_Arrest_Incident_Level_Data_Footnotes.pdf__ in this repository."
   ]
  },
  {
   "cell_type": "markdown",
   "metadata": {},
   "source": [
    "Size down data to only retain necessary fields for this analysis:"
   ]
  },
  {
   "cell_type": "code",
   "execution_count": 3,
   "metadata": {
    "scrolled": true
   },
   "outputs": [
    {
     "data": {
      "text/html": [
       "<div>\n",
       "<style scoped>\n",
       "    .dataframe tbody tr th:only-of-type {\n",
       "        vertical-align: middle;\n",
       "    }\n",
       "\n",
       "    .dataframe tbody tr th {\n",
       "        vertical-align: top;\n",
       "    }\n",
       "\n",
       "    .dataframe thead th {\n",
       "        text-align: right;\n",
       "    }\n",
       "</style>\n",
       "<table border=\"1\" class=\"dataframe\">\n",
       "  <thead>\n",
       "    <tr style=\"text-align: right;\">\n",
       "      <th></th>\n",
       "      <th>PD_CD</th>\n",
       "      <th>PD_DESC</th>\n",
       "      <th>ARREST_DATE</th>\n",
       "      <th>LAW_CAT_CD</th>\n",
       "      <th>ARREST_BORO</th>\n",
       "    </tr>\n",
       "  </thead>\n",
       "  <tbody>\n",
       "    <tr>\n",
       "      <th>0</th>\n",
       "      <td>105.0</td>\n",
       "      <td>STRANGULATION 1ST</td>\n",
       "      <td>02/07/2023</td>\n",
       "      <td>F</td>\n",
       "      <td>S</td>\n",
       "    </tr>\n",
       "    <tr>\n",
       "      <th>1</th>\n",
       "      <td>NaN</td>\n",
       "      <td>(null)</td>\n",
       "      <td>01/04/2023</td>\n",
       "      <td>M</td>\n",
       "      <td>M</td>\n",
       "    </tr>\n",
       "    <tr>\n",
       "      <th>2</th>\n",
       "      <td>101.0</td>\n",
       "      <td>ASSAULT 3</td>\n",
       "      <td>01/10/2023</td>\n",
       "      <td>M</td>\n",
       "      <td>B</td>\n",
       "    </tr>\n",
       "    <tr>\n",
       "      <th>3</th>\n",
       "      <td>NaN</td>\n",
       "      <td>(null)</td>\n",
       "      <td>02/27/2023</td>\n",
       "      <td>F</td>\n",
       "      <td>Q</td>\n",
       "    </tr>\n",
       "    <tr>\n",
       "      <th>4</th>\n",
       "      <td>397.0</td>\n",
       "      <td>ROBBERY,OPEN AREA UNCLASSIFIED</td>\n",
       "      <td>01/07/2023</td>\n",
       "      <td>F</td>\n",
       "      <td>M</td>\n",
       "    </tr>\n",
       "    <tr>\n",
       "      <th>...</th>\n",
       "      <td>...</td>\n",
       "      <td>...</td>\n",
       "      <td>...</td>\n",
       "      <td>...</td>\n",
       "      <td>...</td>\n",
       "    </tr>\n",
       "    <tr>\n",
       "      <th>54571</th>\n",
       "      <td>105.0</td>\n",
       "      <td>STRANGULATION 1ST</td>\n",
       "      <td>03/20/2023</td>\n",
       "      <td>F</td>\n",
       "      <td>Q</td>\n",
       "    </tr>\n",
       "    <tr>\n",
       "      <th>54572</th>\n",
       "      <td>113.0</td>\n",
       "      <td>MENACING,UNCLASSIFIED</td>\n",
       "      <td>03/20/2023</td>\n",
       "      <td>M</td>\n",
       "      <td>M</td>\n",
       "    </tr>\n",
       "    <tr>\n",
       "      <th>54573</th>\n",
       "      <td>439.0</td>\n",
       "      <td>LARCENY,GRAND FROM OPEN AREAS, UNATTENDED</td>\n",
       "      <td>03/13/2023</td>\n",
       "      <td>F</td>\n",
       "      <td>Q</td>\n",
       "    </tr>\n",
       "    <tr>\n",
       "      <th>54574</th>\n",
       "      <td>101.0</td>\n",
       "      <td>ASSAULT 3</td>\n",
       "      <td>03/17/2023</td>\n",
       "      <td>M</td>\n",
       "      <td>Q</td>\n",
       "    </tr>\n",
       "    <tr>\n",
       "      <th>54575</th>\n",
       "      <td>792.0</td>\n",
       "      <td>CRIMINAL POSSESSION WEAPON</td>\n",
       "      <td>03/31/2023</td>\n",
       "      <td>F</td>\n",
       "      <td>Q</td>\n",
       "    </tr>\n",
       "  </tbody>\n",
       "</table>\n",
       "<p>54576 rows × 5 columns</p>\n",
       "</div>"
      ],
      "text/plain": [
       "       PD_CD                                    PD_DESC ARREST_DATE  \\\n",
       "0      105.0                          STRANGULATION 1ST  02/07/2023   \n",
       "1        NaN                                     (null)  01/04/2023   \n",
       "2      101.0                                  ASSAULT 3  01/10/2023   \n",
       "3        NaN                                     (null)  02/27/2023   \n",
       "4      397.0             ROBBERY,OPEN AREA UNCLASSIFIED  01/07/2023   \n",
       "...      ...                                        ...         ...   \n",
       "54571  105.0                          STRANGULATION 1ST  03/20/2023   \n",
       "54572  113.0                      MENACING,UNCLASSIFIED  03/20/2023   \n",
       "54573  439.0  LARCENY,GRAND FROM OPEN AREAS, UNATTENDED  03/13/2023   \n",
       "54574  101.0                                  ASSAULT 3  03/17/2023   \n",
       "54575  792.0                 CRIMINAL POSSESSION WEAPON  03/31/2023   \n",
       "\n",
       "      LAW_CAT_CD ARREST_BORO  \n",
       "0              F           S  \n",
       "1              M           M  \n",
       "2              M           B  \n",
       "3              F           Q  \n",
       "4              F           M  \n",
       "...          ...         ...  \n",
       "54571          F           Q  \n",
       "54572          M           M  \n",
       "54573          F           Q  \n",
       "54574          M           Q  \n",
       "54575          F           Q  \n",
       "\n",
       "[54576 rows x 5 columns]"
      ]
     },
     "execution_count": 3,
     "metadata": {},
     "output_type": "execute_result"
    }
   ],
   "source": [
    "df1 = df.loc[:,['PD_CD','PD_DESC','ARREST_DATE','LAW_CAT_CD','ARREST_BORO']]\n",
    "df1"
   ]
  },
  {
   "cell_type": "markdown",
   "metadata": {},
   "source": [
    "This dataset contains arrest data from January 2023 to March 2023:"
   ]
  },
  {
   "cell_type": "code",
   "execution_count": 4,
   "metadata": {
    "scrolled": false
   },
   "outputs": [
    {
     "name": "stdout",
     "output_type": "stream",
     "text": [
      "Minimum record date is on 01/01/2023\n",
      "Maximum record date is on 03/31/2023\n"
     ]
    }
   ],
   "source": [
    "print(\"Minimum record date is on \" + df1.ARREST_DATE.min())\n",
    "print(\"Maximum record date is on \" + df1.ARREST_DATE.max())"
   ]
  },
  {
   "cell_type": "markdown",
   "metadata": {},
   "source": [
    "Data ordering & Remove missing values"
   ]
  },
  {
   "cell_type": "code",
   "execution_count": 5,
   "metadata": {
    "scrolled": false
   },
   "outputs": [],
   "source": [
    "#rename columns\n",
    "df2 = df1.rename(columns = {'ARREST_DATE':'Arrest Date','LAW_CAT_CD':'Lvl of Offense', \n",
    "                            'ARREST_BORO':'Arrest Boro','PD_CD':'Class Code','PD_DESC':'Class Desc' })\n",
    "\n",
    "#sort columns\n",
    "df3 = df2[['Arrest Date','Arrest Boro','Lvl of Offense','Class Code','Class Desc']]\n",
    "\n",
    "#drop missing values\n",
    "df4=df3.dropna()"
   ]
  },
  {
   "cell_type": "markdown",
   "metadata": {},
   "source": [
    "# Data Summaries & Visualizations"
   ]
  },
  {
   "cell_type": "code",
   "execution_count": 6,
   "metadata": {
    "scrolled": true
   },
   "outputs": [
    {
     "data": {
      "text/html": [
       "<div>\n",
       "<style scoped>\n",
       "    .dataframe tbody tr th:only-of-type {\n",
       "        vertical-align: middle;\n",
       "    }\n",
       "\n",
       "    .dataframe tbody tr th {\n",
       "        vertical-align: top;\n",
       "    }\n",
       "\n",
       "    .dataframe thead th {\n",
       "        text-align: right;\n",
       "    }\n",
       "</style>\n",
       "<table border=\"1\" class=\"dataframe\">\n",
       "  <thead>\n",
       "    <tr style=\"text-align: right;\">\n",
       "      <th></th>\n",
       "      <th>Arrest Boro</th>\n",
       "      <th>count</th>\n",
       "    </tr>\n",
       "  </thead>\n",
       "  <tbody>\n",
       "    <tr>\n",
       "      <th>0</th>\n",
       "      <td>K</td>\n",
       "      <td>6887</td>\n",
       "    </tr>\n",
       "    <tr>\n",
       "      <th>1</th>\n",
       "      <td>M</td>\n",
       "      <td>5263</td>\n",
       "    </tr>\n",
       "    <tr>\n",
       "      <th>2</th>\n",
       "      <td>B</td>\n",
       "      <td>5154</td>\n",
       "    </tr>\n",
       "    <tr>\n",
       "      <th>3</th>\n",
       "      <td>Q</td>\n",
       "      <td>4945</td>\n",
       "    </tr>\n",
       "    <tr>\n",
       "      <th>4</th>\n",
       "      <td>S</td>\n",
       "      <td>987</td>\n",
       "    </tr>\n",
       "  </tbody>\n",
       "</table>\n",
       "</div>"
      ],
      "text/plain": [
       "  Arrest Boro  count\n",
       "0           K   6887\n",
       "1           M   5263\n",
       "2           B   5154\n",
       "3           Q   4945\n",
       "4           S    987"
      ]
     },
     "execution_count": 6,
     "metadata": {},
     "output_type": "execute_result"
    }
   ],
   "source": [
    "#create a subset of the data that only contains felony arrest info by borough\n",
    "df_felony0 = df4.loc[(df4['Lvl of Offense'] == 'F')]\n",
    "df_felony_by_boro = df_felony0[['Arrest Boro']]\n",
    "\n",
    "#count felony arrest by borough\n",
    "df_felony = df_felony_by_boro.value_counts(['Arrest Boro']).reset_index(name='count')\n",
    "df_felony"
   ]
  },
  {
   "cell_type": "markdown",
   "metadata": {},
   "source": [
    "The following pie-chart shows the felony arrest distributions by borough:"
   ]
  },
  {
   "cell_type": "code",
   "execution_count": 7,
   "metadata": {
    "scrolled": true
   },
   "outputs": [
    {
     "data": {
      "text/plain": [
       "<matplotlib.legend.Legend at 0x11ecfe87790>"
      ]
     },
     "execution_count": 7,
     "metadata": {},
     "output_type": "execute_result"
    },
    {
     "data": {
      "image/png": "[encoded data removed]",
      "text/plain": [
       "<Figure size 432x432 with 1 Axes>"
      ]
     },
     "metadata": {},
     "output_type": "display_data"
    }
   ],
   "source": [
    "labels = df_felony['Arrest Boro']\n",
    "felony_by_boro = df_felony['count']\n",
    "\n",
    "plt.figure(figsize=(6,6))\n",
    "plt.pie(felony_by_boro, labels = labels, autopct='%1.1f%%')\n",
    "plt.axis('equal')\n",
    "plt.title('Felony Arrest Counts by Borough',fontsize = 25)\n",
    "plt.legend([\"K-Brooklyn\", \"M-Manhattan\", \"B-Bronx\", \"Q-Queens\", \"S-Staten Island\"], \n",
    "           loc='center right', title='Borough', bbox_to_anchor=(1.5, 0.5), edgecolor = 'red')"
   ]
  },
  {
   "cell_type": "markdown",
   "metadata": {},
   "source": [
    "We can see that Brooklyn has the most felony arrests YTD, followed by Manhattan. Staten Island has the lowest percentage of felony arrests.   "
   ]
  },
  {
   "cell_type": "markdown",
   "metadata": {},
   "source": [
    "As concluded above, Brooklyn has the highest percentage of felony arrests YTD. Let's take a look at all crimes that resulted in a felony arrest in Brooklyn, ranked from most to least frequent:"
   ]
  },
  {
   "cell_type": "code",
   "execution_count": 8,
   "metadata": {},
   "outputs": [
    {
     "data": {
      "text/html": [
       "<div>\n",
       "<style scoped>\n",
       "    .dataframe tbody tr th:only-of-type {\n",
       "        vertical-align: middle;\n",
       "    }\n",
       "\n",
       "    .dataframe tbody tr th {\n",
       "        vertical-align: top;\n",
       "    }\n",
       "\n",
       "    .dataframe thead th {\n",
       "        text-align: right;\n",
       "    }\n",
       "</style>\n",
       "<table border=\"1\" class=\"dataframe\">\n",
       "  <thead>\n",
       "    <tr style=\"text-align: right;\">\n",
       "      <th></th>\n",
       "      <th>Class Desc</th>\n",
       "      <th>count</th>\n",
       "    </tr>\n",
       "  </thead>\n",
       "  <tbody>\n",
       "    <tr>\n",
       "      <th>0</th>\n",
       "      <td>ASSAULT 2,1,UNCLASSIFIED</td>\n",
       "      <td>1043</td>\n",
       "    </tr>\n",
       "    <tr>\n",
       "      <th>1</th>\n",
       "      <td>PUBLIC ADMINISTRATION,UNCLASSI</td>\n",
       "      <td>843</td>\n",
       "    </tr>\n",
       "    <tr>\n",
       "      <th>2</th>\n",
       "      <td>ROBBERY,OPEN AREA UNCLASSIFIED</td>\n",
       "      <td>667</td>\n",
       "    </tr>\n",
       "    <tr>\n",
       "      <th>3</th>\n",
       "      <td>LARCENY,GRAND FROM OPEN AREAS, UNATTENDED</td>\n",
       "      <td>522</td>\n",
       "    </tr>\n",
       "    <tr>\n",
       "      <th>4</th>\n",
       "      <td>BURGLARY,UNCLASSIFIED,UNKNOWN</td>\n",
       "      <td>493</td>\n",
       "    </tr>\n",
       "    <tr>\n",
       "      <th>...</th>\n",
       "      <td>...</td>\n",
       "      <td>...</td>\n",
       "    </tr>\n",
       "    <tr>\n",
       "      <th>75</th>\n",
       "      <td>COERCION 1</td>\n",
       "      <td>1</td>\n",
       "    </tr>\n",
       "    <tr>\n",
       "      <th>76</th>\n",
       "      <td>DRUG PARAPHERNALIA,   POSSESSE</td>\n",
       "      <td>1</td>\n",
       "    </tr>\n",
       "    <tr>\n",
       "      <th>77</th>\n",
       "      <td>KIDNAPPING 1</td>\n",
       "      <td>1</td>\n",
       "    </tr>\n",
       "    <tr>\n",
       "      <th>78</th>\n",
       "      <td>FALSE ALARM FIRE</td>\n",
       "      <td>1</td>\n",
       "    </tr>\n",
       "    <tr>\n",
       "      <th>79</th>\n",
       "      <td>COMPUTER TAMPER/TRESSPASS</td>\n",
       "      <td>1</td>\n",
       "    </tr>\n",
       "  </tbody>\n",
       "</table>\n",
       "<p>80 rows × 2 columns</p>\n",
       "</div>"
      ],
      "text/plain": [
       "                                   Class Desc  count\n",
       "0                    ASSAULT 2,1,UNCLASSIFIED   1043\n",
       "1              PUBLIC ADMINISTRATION,UNCLASSI    843\n",
       "2              ROBBERY,OPEN AREA UNCLASSIFIED    667\n",
       "3   LARCENY,GRAND FROM OPEN AREAS, UNATTENDED    522\n",
       "4               BURGLARY,UNCLASSIFIED,UNKNOWN    493\n",
       "..                                        ...    ...\n",
       "75                                 COERCION 1      1\n",
       "76             DRUG PARAPHERNALIA,   POSSESSE      1\n",
       "77                               KIDNAPPING 1      1\n",
       "78                           FALSE ALARM FIRE      1\n",
       "79                  COMPUTER TAMPER/TRESSPASS      1\n",
       "\n",
       "[80 rows x 2 columns]"
      ]
     },
     "execution_count": 8,
     "metadata": {},
     "output_type": "execute_result"
    }
   ],
   "source": [
    "df_bk_felony0 = df4.loc[(df4['Lvl of Offense'] == 'F')&(df4['Arrest Boro'] == 'K')]\n",
    "df_bk_felony = df_bk_felony0[['Class Desc']]\n",
    "df_bk_felony.value_counts(['Class Desc']).reset_index(name='count')"
   ]
  },
  {
   "cell_type": "markdown",
   "metadata": {},
   "source": [
    "The top three most common crimes that resulted in felony arrests in Brooklyn are: Assult, Public Administration, and Robbery."
   ]
  },
  {
   "cell_type": "markdown",
   "metadata": {},
   "source": [
    "# Conclusion"
   ]
  },
  {
   "cell_type": "markdown",
   "metadata": {},
   "source": [
    "The data summaries and graph above suggests that Brooklyn has the highest percentage of felony arrests to date. We also learned that the top three felony crimes are Assult, Public Administration, and Robbery. Although this information might be useful for NYPD, it could be more beneficial analyze the felony arrest distributions with the population density and land size in mind. I believe the results would be more accurate if it is presented as \"felony arrests per square mile\", or \"felony arrests per 1,000 residents\". "
   ]
  }
 ],
 "metadata": {
  "kernelspec": {
   "display_name": "Python 3",
   "language": "python",
   "name": "python3"
  },
  "language_info": {
   "codemirror_mode": {
    "name": "ipython",
    "version": 3
   },
   "file_extension": ".py",
   "mimetype": "text/x-python",
   "name": "python",
   "nbconvert_exporter": "python",
   "pygments_lexer": "ipython3",
   "version": "3.8.5"
  }
 },
 "nbformat": 4,
 "nbformat_minor": 4
}
